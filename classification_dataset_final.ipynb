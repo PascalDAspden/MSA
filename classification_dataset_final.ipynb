{
  "metadata": {
    "language_info": {
      "codemirror_mode": {
        "name": "python",
        "version": 3
      },
      "file_extension": ".py",
      "mimetype": "text/x-python",
      "name": "python",
      "nbconvert_exporter": "python",
      "pygments_lexer": "ipython3",
      "version": "3.8"
    },
    "kernelspec": {
      "name": "python",
      "display_name": "Python (Pyodide)",
      "language": "python"
    }
  },
  "nbformat_minor": 4,
  "nbformat": 4,
  "cells": [
    {
      "cell_type": "code",
      "source": "#import libaries \nimport pandas as pd\nimport numpy as np\nimport matplotlib.pyplot as plt\nimport seaborn as sns",
      "metadata": {
        "trusted": true
      },
      "execution_count": null,
      "outputs": []
    },
    {
      "cell_type": "code",
      "source": "# --- Load data ---\ndf_salaries = pd.read_csv('data_salaries.csv')\n\n# For numerical features\nnumerical_features = df_salaries.select_dtypes(include=[np.number])\nnumerical_summary = numerical_features.describe().transpose()\n\n# For categorical features\ncategorical_features = df_salaries.select_dtypes(include=['object'])\ncategorical_summary = categorical_features.describe(include=['object']).transpose()\n\n# Display summary\nprint(\"Summary of Numerical Features:\\n\", numerical_summary)\nprint(\"\\n\")\nprint(\"Summary of Categorical Features:\\n\", categorical_summary)",
      "metadata": {
        "trusted": true
      },
      "execution_count": null,
      "outputs": []
    },
    {
      "cell_type": "markdown",
      "source": "Here I am displaying the features in the numerical form I changed the categorical type to numercial so the ai model can use the data.",
      "metadata": {}
    },
    {
      "cell_type": "code",
      "source": "# --- Cleaning ---\n#  Removoing the outliers\ndef remove_outliers(df):\n    numeric_cols = df.select_dtypes(include=[np.number])\n    mean = numeric_cols.mean()\n    std = numeric_cols.std()\n    is_outlier = (np.abs(numeric_cols - mean) > 3 * std).any(axis=1)\n    return df[~is_outlier]\n\ndf_salaries = remove_outliers(df_salaries)",
      "metadata": {
        "trusted": true
      },
      "execution_count": null,
      "outputs": []
    },
    {
      "cell_type": "markdown",
      "source": "Here I ran through the cols and then I removed any outliers that was not in the range of standard deviation",
      "metadata": {}
    },
    {
      "cell_type": "code",
      "source": "# --- Statistics ---\n# Calculate mean of 'salary_in_usd'\nmean_salary = df_salaries['salary_in_usd'].mean()\nprint(\"Mean Salary: \", mean_salary)\n\n# Calculate standard deviation of 'salary_in_usd'\nstd_salary = df_salaries['salary_in_usd'].std()\nprint(\"Standard Deviation of Salary: \", std_salary)\n\n# --- Visualization ---\n# Show first 10 instances\nprint(\"df_salaries first ten instances:\\n\", df_salaries.head(10))",
      "metadata": {
        "trusted": true
      },
      "execution_count": null,
      "outputs": []
    },
    {
      "cell_type": "markdown",
      "source": "Here I decided that I should find the mean of salary in USD as it is what I would be trying to get my model to predict as it is the variable that everyone has that I believe is the best to test for. I also decided to show the first ten instances in df_salaries.",
      "metadata": {}
    },
    {
      "cell_type": "code",
      "source": "# Box plot Salaries vs Company Size\nplt.figure(figsize=(10,7))\nsns.boxplot(x=\"company_size\", y=\"salary_in_usd\", data=df_salaries, order=['S', 'M', 'L'])\nplt.title('Salaries vs Company Size')\nplt.show()",
      "metadata": {},
      "execution_count": null,
      "outputs": []
    },
    {
      "cell_type": "markdown",
      "source": "Graph 1: The graphs shows a strong correlation between company size and employee wages. Smaller companies pay less, likely due to limited funds and being a start up. Medium-sized companies pay competitively, as they represent the majority. Large companies pay the second most with a wide wage distribution, possibly due to diverse roles and work experiences among employees for example employees could be with the company when it was a small company and overtime got pay increases as the company grew.\n",
      "metadata": {}
    },
    {
      "cell_type": "code",
      "source": "# Grouped bar plot of Salary Comparison by experience level and company size\nplt.figure(figsize=(10, 7))\nsns.barplot(data=df_salaries, x='experience_level', y='salary_in_usd', hue='company_size')\nplt.xlabel('Experience Level')\nplt.ylabel('Salary (USD)')\nplt.title('Salary Comparison by Experience Level and Company Size')\nplt.legend(title='Company Size')\nplt.show()",
      "metadata": {},
      "execution_count": null,
      "outputs": []
    },
    {
      "cell_type": "markdown",
      "source": "Graph 2: The graph reveals a link between experience level and pay in data science. The 'EX' level earns the most, mirroring Graph 1's distribution. 'EN' level, though paid the least, earns slightly more in smaller companies. The pay trends across experience levels and company sizes show smaller companies paying least, followed by large, and then medium companies.\n\n\n\n",
      "metadata": {}
    },
    {
      "cell_type": "code",
      "source": "# Box plot Salaries vs Employment Type and Company Size\nplt.figure(figsize=(10, 7))\nsns.boxplot(x=\"company_size\", y=\"salary_in_usd\", hue=\"employment_type\", data=df_salaries, order=['S', 'M', 'L'])\nplt.title('Salaries vs Employment Type and Company Size')\nplt.legend(title='Employment Type')\nplt.show()\n\n# Box plot Salary usd vs employment type\nplt.figure(figsize=(10,7))\nsns.boxplot(x='employment_type', y='salary_in_usd', data=df_salaries)\nplt.xlabel('Employment Type')\nplt.ylabel('Salary (USD)')\nplt.title('Salary Comparison by Employment Type')\nplt.show()\n",
      "metadata": {},
      "execution_count": null,
      "outputs": []
    },
    {
      "cell_type": "markdown",
      "source": "Graph 3: indicates that full-time (FT) is the most common and highest-paying employment type. Part-time (PT) jobs have the widest pay spread, especially in medium companies. Freelance (FL) workers in medium companies earn more than PT workers, possibly due to longer work hours. Contract (CT) workers in medium companies have a symmetrical pay spread. Larger companies employ only FT and PT workers and appear to pay less, but considering the additional roles in medium companies, it suggests they pay more in data science. Smaller companies, with FT, CT, and PT jobs, follow the trend of FT paying more. \n\n\nGraph 4 confirms FL as the second-highest earners with the least pay spread, and PT earning the least.",
      "metadata": {}
    },
    {
      "cell_type": "markdown",
      "source": "# 5 Summary:\n\nFrom examining the data, I found that these variables had the most negligible correlation with salary in USD 'salary_currency' and 'company_location'. Whereas company_size, experience_level and employment_type contributed the most when predicting the salary of people in the data science field.\n\nMy exploration of the data and preprocessing began with loading the salary dataset into the pandas data frame. This dataset provides a comprehensive insight into the salaries of data science professionals and how it varies based on different factors.\n\nIn order to ensure the quality of the data, the cleaning process involved removing outliers from the dataset. I implemented a function that removes any data point more than three standard deviations from the mean in the numeric columns. This step was vital because outliers can significantly skew results and impact the predictive performance of machine learning models.\n\nFollowing the data cleaning, I performed statistical analysis on the 'salary_in_usd' field. By calculating the mean and standard deviation, I was able to determine the dispersion of the salaries, which provided an understanding of the overall salary distribution.\n\nThe next step involved diving deeper into the data through visualisations. These included box plots and bar plots, which I used to compare salaries against variables such as company size, experience level, and employment type. This phase was crucial in visualising trends and patterns in the data that would not be evident from just looking at raw data, meaning the best variables were easier to identify.\n\nSome of the interesting findings from the EDA included:\n\nA correlation between company size and wages became obvious when graphing the features, with smaller companies generally paying less than larger ones while medium ones pay the most.\nWhen examining the data, there was a clear impact of experience level on salaries, with more experienced professionals ('EX') earning more.\nThere was also a variation in salaries based on employment type, with full-time roles usually offering higher salaries than part-time ones.\nThrough preprocessing the data, I developed a thorough understanding of the datasets, revealing essential insights that will guide the subsequent steps in model training and evaluation. These insights include identifying key features and their potential influence on predicting salary outcomes.\n",
      "metadata": {}
    }
  ]
}