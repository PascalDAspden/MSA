{
  "metadata": {
    "language_info": {
      "codemirror_mode": {
        "name": "python",
        "version": 3
      },
      "file_extension": ".py",
      "mimetype": "text/x-python",
      "name": "python",
      "nbconvert_exporter": "python",
      "pygments_lexer": "ipython3",
      "version": "3.8"
    },
    "kernelspec": {
      "name": "python",
      "display_name": "Python (Pyodide)",
      "language": "python"
    }
  },
  "nbformat_minor": 4,
  "nbformat": 4,
  "cells": [
    {
      "cell_type": "markdown",
      "source": "# MSA Part 3",
      "metadata": {}
    },
    {
      "cell_type": "markdown",
      "source": "## SCORE.py",
      "metadata": {}
    },
    {
      "cell_type": "code",
      "source": "import json, os, joblib\nimport numpy as np\n\n# Since the model works with label-encoded data, we can create dictionaries to get the actual class names\nexperience_levels = {0: \"SE\", 1: \"MI\", 2: \"EN\", 3: \"EX\"}\nemployment_types = {0: \"FT\", 1: \"PT\", 2: \"CT\", 3: \"FL\"}\ncompany_sizes = {0: \"S\", 1: \"M\", 2: \"L\"}\n\ndef init():\n    # Loads the model\n    global model\n    model_path = \"random_forest_model_seed_0.pkl\"\n    full_model_path = os.path.join(os.getenv(\"AZUREML_MODEL_DIR\"), model_path)\n    model = joblib.load(full_model_path)\n\ndef map_categories_to_names(data):\n    # Map the label-encoded data back to actual categories\n    data[\"experience_level\"] = experience_levels.get(data[\"experience_level\"])\n    data[\"employment_type\"] = employment_types.get(data[\"employment_type\"])\n    data[\"company_size\"] = company_sizes.get(data[\"company_size\"])\n    return data\n\ndef remove_none_values(data):\n    # Removes keys with None values from the dictionary\n    return {key: val for key, val in data.items() if val is not None}\n\ndef run(request):\n    # Loads the input data, runs the model on it, and returns its predictions\n    data = json.loads(request)\n    data = remove_none_values(data)\n    data = np.array(data[\"data\"])\n    result = model.predict(data)\n    return result.tolist()\n",
      "metadata": {},
      "execution_count": null,
      "outputs": []
    },
    {
      "cell_type": "markdown",
      "source": "## Test and share endpoint for marking",
      "metadata": {}
    },
    {
      "cell_type": "code",
      "source": "import urllib.request\nimport json\nimport os\nimport ssl\n\ndef allowSelfSignedHttps(allowed):\n    # bypass the server certificate verification on client side\n    if allowed and not os.environ.get('PYTHONHTTPSVERIFY', '') and getattr(ssl, '_create_unverified_context', None):\n        ssl._create_default_https_context = ssl._create_unverified_context\n\nallowSelfSignedHttps(True) # this line is needed if you use self-signed certificate in your scoring service.\n\n# Request data goes here\n# The example below assumes JSON formatting which may be updated\n# depending on the format your endpoint expects.\n# More information can be found here:\n# https://docs.microsoft.com/azure/machine-learning/how-to-deploy-advanced-entry-script\ndata = {}\n\nbody = str.encode(json.dumps(data))\n\nurl = 'https://msa2023-phase2-azure-flccm.australiaeast.inference.ml.azure.com/score'\n# Replace this with the primary/secondary key or AMLToken for the endpoint\napi_key = ''\nif not api_key:\n    raise Exception(\"A key should be provided to invoke the endpoint\")\n\n# The azureml-model-deployment header will force the request to go to a specific deployment.\n# Remove this header to have the request observe the endpoint traffic rules\nheaders = {'Content-Type':'application/json', 'Authorization':('Bearer '+ api_key), 'azureml-model-deployment': 'randomforestregressor-11' }\n\nreq = urllib.request.Request(url, body, headers)\n\ntry:\n    response = urllib.request.urlopen(req)\n\n    result = response.read()\n    print(result)\nexcept urllib.error.HTTPError as error:\n    print(\"The request failed with status code: \" + str(error.code))\n\n    # Print the headers - they include the requert ID and the timestamp, which are useful for debugging the failure\n    print(error.info())\n    print(error.read().decode(\"utf8\", 'ignore'))",
      "metadata": {},
      "execution_count": null,
      "outputs": []
    },
    {
      "cell_type": "markdown",
      "source": "### Secondary key\n\nVcEsnMPYqqd8WJ150gGoBBY21CSHVw92",
      "metadata": {}
    },
    {
      "cell_type": "markdown",
      "source": "# Summary \n\nThis Python script implеmеnts a Random Forеst classifiеr modеl for making prеdictions on input data.  It includеs functions to initializе thе modеl,  map labеl-еncodеd catеgoriеs to thеir namеs,  and rеmovе Nonе valuеs from thе input data.  Thе run(rеquеst) function loads thе input data,  procеssеs it,  and rеturns thе modеl's prеdictions as a list. \n\nAzurе is a cloud platform that offеrs scalability,  a widе rangе of sеrvicеs,  global rеach,  sеcurity,  intеgration with Microsoft products,  AI/ML capabilitiеs,  hybrid solutions,  DеvOps support,  cost managеmеnt,  and a strong support community.  It is a robust choicе for building and managing applications in thе cloud therefore it is great for business work.  ",
      "metadata": {}
    }
  ]
}