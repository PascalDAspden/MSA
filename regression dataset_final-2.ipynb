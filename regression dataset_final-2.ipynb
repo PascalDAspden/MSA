{
  "metadata": {
    "language_info": {
      "codemirror_mode": {
        "name": "python",
        "version": 3
      },
      "file_extension": ".py",
      "mimetype": "text/x-python",
      "name": "python",
      "nbconvert_exporter": "python",
      "pygments_lexer": "ipython3",
      "version": "3.8"
    },
    "kernelspec": {
      "name": "python",
      "display_name": "Python (Pyodide)",
      "language": "python"
    }
  },
  "nbformat_minor": 4,
  "nbformat": 4,
  "cells": [
    {
      "cell_type": "markdown",
      "source": "# loading libaries ",
      "metadata": {}
    },
    {
      "cell_type": "code",
      "source": "import pandas as pd\nimport numpy as np\nimport matplotlib.pyplot as plt\nimport seaborn as sns",
      "metadata": {
        "trusted": true
      },
      "execution_count": null,
      "outputs": []
    },
    {
      "cell_type": "code",
      "source": "# --- Cleaning for Credit Risk Dataset ---\n# Load data\ndf_credit_risk = pd.read_csv('credit_risk.csv')\n\ndef remove_outliers(df):\n    numeric_cols = df.select_dtypes(include=[np.number])\n    mean = numeric_cols.mean()\n    std = numeric_cols.std()\n    is_outlier = (np.abs(numeric_cols - mean) > 3 * std).any(axis=1)\n    return df[~is_outlier]\n\n\n# --- Visualization ---\n# Remove outliers\ndf_credit_risk = remove_outliers(df_credit_risk)\n\n\n\n",
      "metadata": {
        "trusted": true
      },
      "execution_count": null,
      "outputs": []
    },
    {
      "cell_type": "markdown",
      "source": "\nHere is where I load my chosen data andf find the mean and the standard deviation of the data, I also removed the outliers ",
      "metadata": {}
    },
    {
      "cell_type": "code",
      "source": "# Scatter plot for age vs credit amount\nplt.figure(figsize=(10, 7))\nplt.scatter(df_credit_risk['age'], df_credit_risk['credit_amount'])\nplt.title('Age vs Credit Amount')\nplt.xlabel('Age')\nplt.ylabel('Credit Amount')\nplt.show()",
      "metadata": {},
      "execution_count": null,
      "outputs": []
    },
    {
      "cell_type": "markdown",
      "source": "Graph 1 investigates the relationship between age and credit amount, while examinating the graph we can see a concentration of individuals aged 20-40 with credit scores below 4000. Above this cluster we can see people with much higher credit this could be due, people borrowing more for life expenditures, potentially leading to a lower credit class. However, it's important to understand the purpose of such borrowing at this age could be due to them needing to buy things such as homes which necessitate loans, irrespective of income level. Thus looking at these factors we can come to the conclusion on how complex the relationship between age, credit usage, and financial stability is.",
      "metadata": {}
    },
    {
      "cell_type": "code",
      "source": "# Bar plot for credit_history vs Class\nplt.figure(figsize=(10, 7))\nsns.countplot(x='credit_history', hue='class', data=df_credit_risk)\nplt.title('Credit History vs Class')\nplt.xlabel('Credit History')\nplt.ylabel('Count')\nplt.legend(title='Class')\nplt.show()",
      "metadata": {},
      "execution_count": null,
      "outputs": []
    },
    {
      "cell_type": "markdown",
      "source": "Graph 2 shows that the skill level of the workers has little to no corrorlation to the credit score. The only noticable feature is when examining the unskill workers we see that the split is slightly less than the others.\n",
      "metadata": {}
    },
    {
      "cell_type": "code",
      "source": "# Bar plot for job vs Class\nplt.figure(figsize=(10, 7))\nsns.countplot(x='job', hue='class', data=df_credit_risk)\nplt.title('Job vs Class')\nplt.xlabel('Job')\nplt.ylabel('Count')\nplt.legend(title='Class')\nplt.show()",
      "metadata": {},
      "execution_count": null,
      "outputs": []
    },
    {
      "cell_type": "markdown",
      "source": "Graph 3 analyses credit history patterns, revealing that individuals with no credit or fully paid credit often have bad credit scores. In contrast, those with ongoing paid credit or multiple credit lines generally have good credit. This suggests that responsible credit management is valued over full credit repayment, indicating a consistent correlation between credit behavior and creditworthiness.",
      "metadata": {}
    },
    {
      "cell_type": "code",
      "source": "# --- Preprocessing ---\n# Converting the data with pandas\nfor column in ['duration', 'credit_amount', 'installment_commitment', 'residence_since', 'age', 'existing_credits', 'num_dependents']:\n    df_credit_risk[column] = pd.to_numeric(df_credit_risk[column], errors='coerce')\n\n# Convert categorical variables into dummy/indicator variables\ncategorical_columns = ['checking_status', 'credit_history', 'purpose', 'savings_status', 'employment', 'personal_status', \n                       'other_parties', 'property_magnitude', 'other_payment_plans', 'housing', 'job', 'own_telephone', \n                       'foreign_worker', 'class']\ndf_credit_risk = pd.get_dummies(df_credit_risk, columns=categorical_columns)\n\n# For numerical features\nnumerical_features = df_credit_risk.select_dtypes(include=[np.number])\nnumerical_summary = numerical_features.describe().transpose()\n\n# Display summary\nprint(\"Summary of Numerical Features:\\n\", numerical_summary)\n\n# --- Visualization ---\n# Show first 10 instances\nprint(\"credit risk first 10 instances:\\n\", df_credit_risk.head(10))",
      "metadata": {},
      "execution_count": null,
      "outputs": []
    },
    {
      "cell_type": "markdown",
      "source": "# 5 Summary:\n\n\nMy exploratory data analysis preprocessing began by loading the \"credit_risk\" dataset into a pandas data frame. This dataset provides clear, distinct links between the variables and \"Class\".\nTo ensure reliable results, I removed outliers and data with None values. Outliers throw of modelling and the graphs, so it was in my best interest to remove them for more reliable data.\n\nAfter data cleaning, I conducted an in-depth analysis of the \"age\" and \"credit_amount\" variables. Through scatter plots and other visualisations, I uncovered a relationship between age and credit amount. Specifically, a significant number of individuals between 20 to 40 years old had credit scores below 4000. This observation suggests an interaction between age, credit usage, and financial stability, which could be significant in understanding credit risk.\n\nAnother important aspect I found while exploring the data was the distribution of job classes. Using bar plots, I visualised the spread of job classes, which helped me gain insights into the different job categories in the dataset. Understanding the job-class distribution is essential to comprehending credit risk and its connection to various occupations.\n\nLastly, I analysed the relationship between credit history and creditworthiness. Through appropriate visualisations, I observed that individuals with existing or multiple credit lines tend to have better credit since having credit leads to a better credit score, indicating the value of responsible credit management in assessing credit risk.\n\nThe EDA process proved invaluable in uncovering trends and patterns that provided insights into credit risk evaluation. Overall we can see that there is a complex relationship between credit behaviour and creditworthiness, which will be vital in the subsequent steps of model training and evaluation in later parts. With a better understanding of the dataset, I am now well-equipped to build a robust credit risk prediction model that takes into account various factors to assess individuals' creditworthiness accurately.\n\n\n",
      "metadata": {}
    }
  ]
}